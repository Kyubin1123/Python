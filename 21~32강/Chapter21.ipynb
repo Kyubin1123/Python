{
 "cells": [
  {
   "cell_type": "markdown",
   "metadata": {},
   "source": [
    "#### 함수 : 목적이 있는 코드의 집합\n",
    "함수의 구조\n",
    "> def 함수이름():  \n",
    "> &nbsp;&nbsp;&nbsp;&nbsp;&nbsp;&nbsp;코드  \n",
    "\n",
    "<spen style=\"color:gray\">\n",
    "(def는 define으로 함수를 정의하겠다는 의미로 사용됨)\n",
    "</spen>"
   ]
  },
  {
   "cell_type": "code",
   "execution_count": 2,
   "metadata": {},
   "outputs": [
    {
     "name": "stdout",
     "output_type": "stream",
     "text": [
      "oz코딩스쿨\n",
      "oz코딩스쿨\n",
      "oz코딩스쿨\n",
      "oz코딩스쿨\n",
      "oz코딩스쿨\n"
     ]
    }
   ],
   "source": [
    "def oz():\n",
    "    for i in range(5):\n",
    "        print('oz코딩스쿨')\n",
    "\n",
    "oz()"
   ]
  },
  {
   "cell_type": "markdown",
   "metadata": {},
   "source": [
    "##### **함수 선언부**\n",
    "\n",
    "> def oz():  \n",
    "> &nbsp;&nbsp;&nbsp;&nbsp;&nbsp;&nbsp; for i in range(5):  \n",
    "> &nbsp;&nbsp;&nbsp;&nbsp;&nbsp;&nbsp;&nbsp;&nbsp;&nbsp;&nbsp;&nbsp;&nbsp;&nbsp;&nbsp;print('OZ코딩스쿨')    \n",
    "\n",
    "##### **함수 실행부**\n",
    "> oz()\n",
    "\n",
    "<spen style=\"color:gray\">\n",
    "(함수를 실행하는 것을 계발 언어로 호출이라고 합니다.)\n",
    "</spen>\n"
   ]
  },
  {
   "cell_type": "markdown",
   "metadata": {},
   "source": [
    "함수 코드 해석 :\n",
    "---\n",
    "\n",
    "1. 함수 선언부 : oz라는 함수를 정의할께 그리고 이 함수가 실행되면 for문을 이용해 OZ코딩스쿨이라는 내용이 5번 출력되도록 해줘  \n",
    "2. 함수 실행부 : oz함수를 실행 호출(실행) 해줘\n"
   ]
  }
 ],
 "metadata": {
  "kernelspec": {
   "display_name": "Python 3",
   "language": "python",
   "name": "python3"
  },
  "language_info": {
   "codemirror_mode": {
    "name": "ipython",
    "version": 3
   },
   "file_extension": ".py",
   "mimetype": "text/x-python",
   "name": "python",
   "nbconvert_exporter": "python",
   "pygments_lexer": "ipython3",
   "version": "3.9.6"
  }
 },
 "nbformat": 4,
 "nbformat_minor": 2
}
