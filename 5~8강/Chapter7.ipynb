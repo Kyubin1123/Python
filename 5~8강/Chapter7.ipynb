{
 "cells": [
  {
   "cell_type": "markdown",
   "metadata": {},
   "source": [
    "### 자료형 종류\n",
    "\n",
    "1. int(integer) : 정수  \n",
    "2. float(float) : 실수  \n",
    "3. str(string) : 문자  \n",
    "4. bool(bool, boolean) : 참 또는 거짓, true 또는 false, 1 또는 0  \n",
    "\n",
    "-----\n",
    "\n",
    "5. list  \n",
    "6. tuple  \n",
    "7. diot  \n",
    "8. set  "
   ]
  },
  {
   "cell_type": "code",
   "execution_count": 1,
   "metadata": {},
   "outputs": [],
   "source": [
    "이름 = \"김오즈\"\n",
    "나이 = 33\n",
    "키 = 180.3\n",
    "소속 = \"s매직 서울북부\""
   ]
  },
  {
   "cell_type": "code",
   "execution_count": 2,
   "metadata": {},
   "outputs": [
    {
     "name": "stdout",
     "output_type": "stream",
     "text": [
      "<class 'str'>\n",
      "<class 'int'>\n",
      "<class 'float'>\n",
      "<class 'str'>\n"
     ]
    }
   ],
   "source": [
    "print(type(이름))\n",
    "print(type(나이))\n",
    "print(type(키))\n",
    "print(type(소속))"
   ]
  },
  {
   "cell_type": "code",
   "execution_count": 3,
   "metadata": {},
   "outputs": [
    {
     "name": "stdout",
     "output_type": "stream",
     "text": [
      "5.0\n",
      "5\n",
      "five five_dot\n",
      "<class 'str'> <class 'str'>\n"
     ]
    }
   ],
   "source": [
    "five = 5\n",
    "five_dot = 5.0\n",
    "\n",
    "print(float(five))\n",
    "print(int(five_dot))\n",
    "print('five', 'five_dot')\n",
    "print(type(\"five\"), type(\"five_dot\"))"
   ]
  },
  {
   "cell_type": "markdown",
   "metadata": {},
   "source": [
    "str : 문자열  \n",
    "특징 : 시퀀스 자료형  \n",
    "시퀀스란?  \n",
    "요소들이 연속적으로 이어진 자료형  \n",
    "값 하나하나를 요소라고 합니다."
   ]
  },
  {
   "cell_type": "code",
   "execution_count": 4,
   "metadata": {},
   "outputs": [
    {
     "name": "stdout",
     "output_type": "stream",
     "text": [
      "s매직 서울북부\n",
      "s\n",
      "매\n",
      "직\n",
      " \n",
      "서\n",
      "울\n",
      "북\n",
      "부\n"
     ]
    }
   ],
   "source": [
    "#인덱스의 시작은 0\n",
    "print(소속)\n",
    "print(소속[0])\n",
    "print(소속[1])\n",
    "print(소속[2])\n",
    "print(소속[3])\n",
    "print(소속[4])\n",
    "print(소속[5])\n",
    "print(소속[6])\n",
    "print(소속[7])"
   ]
  },
  {
   "cell_type": "code",
   "execution_count": 5,
   "metadata": {},
   "outputs": [
    {
     "data": {
      "text/plain": [
       "False"
      ]
     },
     "execution_count": 5,
     "metadata": {},
     "output_type": "execute_result"
    }
   ],
   "source": [
    "\"매\" in 소속 \n",
    "\"S\" in 소속 "
   ]
  },
  {
   "cell_type": "code",
   "execution_count": 7,
   "metadata": {},
   "outputs": [
    {
     "data": {
      "text/plain": [
       "'13금요일'"
      ]
     },
     "execution_count": 7,
     "metadata": {},
     "output_type": "execute_result"
    }
   ],
   "source": [
    "# 문자열 즉 시퀀스 끼리 합치기\n",
    "\n",
    "\"13\" + \"금요일\""
   ]
  },
  {
   "cell_type": "code",
   "execution_count": 10,
   "metadata": {},
   "outputs": [
    {
     "name": "stdout",
     "output_type": "stream",
     "text": [
      "바니바니 당근당근바니바니 당근당근바니바니 당근당근바니바니 당근당근바니바니 당근당근바니바니 당근당근바니바니 당근당근바니바니 당근당근바니바니 당근당근바니바니 당근당근바니바니 당근당근바니바니 당근당근바니바니 당근당근바니바니 당근당근바니바니 당근당근바니바니 당근당근바니바니 당근당근바니바니 당근당근바니바니 당근당근바니바니 당근당근\n"
     ]
    },
    {
     "data": {
      "text/plain": [
       "180"
      ]
     },
     "execution_count": 10,
     "metadata": {},
     "output_type": "execute_result"
    }
   ],
   "source": [
    "# 복사가 가능합니다.\n",
    "\n",
    "옛날게임 = \"바니바니 당근당근\" * 20\n",
    "\n",
    "print(옛날게임)\n",
    "\n",
    "len(옛날게임)"
   ]
  },
  {
   "cell_type": "code",
   "execution_count": 11,
   "metadata": {},
   "outputs": [
    {
     "name": "stdout",
     "output_type": "stream",
     "text": [
      "카포에라\n"
     ]
    }
   ],
   "source": [
    "퀴즈 = \"차 4대가 고장나면? 카포에라\"\n",
    "\n",
    "print(퀴즈[12:16])"
   ]
  },
  {
   "cell_type": "code",
   "execution_count": 13,
   "metadata": {},
   "outputs": [
    {
     "data": {
      "text/plain": [
       "'라'"
      ]
     },
     "execution_count": 13,
     "metadata": {},
     "output_type": "execute_result"
    }
   ],
   "source": [
    "# 퀴즈[15]\n",
    "퀴즈[-1]"
   ]
  },
  {
   "cell_type": "code",
   "execution_count": 15,
   "metadata": {},
   "outputs": [
    {
     "name": "stdout",
     "output_type": "stream",
     "text": [
      "2000 12 25\n"
     ]
    }
   ],
   "source": [
    "생년월일 = \"2000.12.25\"\n",
    "년 = 생년월일[0:4]\n",
    "월 = 생년월일[5:7]\n",
    "일 = 생년월일[8:11]\n",
    "\n",
    "print(f'{년} {월} {일}')\n",
    "#2000 12 25"
   ]
  },
  {
   "cell_type": "code",
   "execution_count": 16,
   "metadata": {},
   "outputs": [
    {
     "name": "stdout",
     "output_type": "stream",
     "text": [
      "123348829348329759\n",
      "957923843928843321\n",
      "134894395\n",
      "433\n",
      "48829348329759\n"
     ]
    }
   ],
   "source": [
    "숫자 = \"123348829348329759\"\n",
    "#전체 출력\n",
    "print(숫자[::])\n",
    "\n",
    "#전체 출력\n",
    "print(숫자[::-1])\n",
    "\n",
    "#첫번째 인덱스 기준으로 2칸씩 띄어쓰기 출력하기\n",
    "print(숫자[::2])\n",
    "\n",
    "#첫번째 인덱스 기준으로 2칸씩 띄어쓰기 출력하기\n",
    "print(숫자[4:1:-1])\n",
    "print(숫자[4:])"
   ]
  },
  {
   "cell_type": "code",
   "execution_count": 17,
   "metadata": {},
   "outputs": [
    {
     "name": "stdout",
     "output_type": "stream",
     "text": [
      "어중이떠중이\n"
     ]
    }
   ],
   "source": [
    "퀴즈 = \"스님이 공중에 뜬다를 4글자로 말하면? 어중이떠중이\"\n",
    "print(퀴즈[22:28])"
   ]
  },
  {
   "cell_type": "code",
   "execution_count": 18,
   "metadata": {},
   "outputs": [
    {
     "data": {
      "text/plain": [
       "2"
      ]
     },
     "execution_count": 18,
     "metadata": {},
     "output_type": "execute_result"
    }
   ],
   "source": [
    "과일 = \"apple\"\n",
    "과일.count(\"p\")"
   ]
  },
  {
   "cell_type": "code",
   "execution_count": 20,
   "metadata": {},
   "outputs": [
    {
     "data": {
      "text/plain": [
       "1"
      ]
     },
     "execution_count": 20,
     "metadata": {},
     "output_type": "execute_result"
    }
   ],
   "source": [
    "과일[2]\n",
    "과일.index(\"p\")"
   ]
  },
  {
   "cell_type": "code",
   "execution_count": 25,
   "metadata": {},
   "outputs": [
    {
     "name": "stdout",
     "output_type": "stream",
     "text": [
      "상기시켜\n"
     ]
    },
    {
     "data": {
      "text/plain": [
       "10"
      ]
     },
     "execution_count": 25,
     "metadata": {},
     "output_type": "execute_result"
    }
   ],
   "source": [
    "라라랜드 = \"사람들은 다른 사람들의 열정에 끌리게 되어있어 자신이 잊은 걸 상기시켜 주니까\"\n",
    "print(라라랜드[35:39])\n",
    "라라랜드.count(\" \")"
   ]
  }
 ],
 "metadata": {
  "kernelspec": {
   "display_name": "Python 3",
   "language": "python",
   "name": "python3"
  },
  "language_info": {
   "codemirror_mode": {
    "name": "ipython",
    "version": 3
   },
   "file_extension": ".py",
   "mimetype": "text/x-python",
   "name": "python",
   "nbconvert_exporter": "python",
   "pygments_lexer": "ipython3",
   "version": "3.9.6"
  }
 },
 "nbformat": 4,
 "nbformat_minor": 2
}
