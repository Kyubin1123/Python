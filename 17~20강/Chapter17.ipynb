{
 "cells": [
  {
   "cell_type": "code",
   "execution_count": 1,
   "metadata": {},
   "outputs": [
    {
     "name": "stdout",
     "output_type": "stream",
     "text": [
      "양파 2개를 수확했습니다.\n",
      "대파를 수확했습니다\n"
     ]
    }
   ],
   "source": [
    "def 양파():\n",
    "    print(\"양파 2개를 수확했습니다.\")\n",
    "def 대파():\n",
    "    print(\"대파를 수확했습니다\")\n",
    "\n",
    "#함수 호출하기\n",
    "양파()\n",
    "대파()"
   ]
  },
  {
   "cell_type": "code",
   "execution_count": 2,
   "metadata": {},
   "outputs": [
    {
     "name": "stdout",
     "output_type": "stream",
     "text": [
      "농작물 수확량이 현저히 줄었습니다\n",
      "올해 비가 많이 왔습니다\n"
     ]
    }
   ],
   "source": [
    "def 수확():\n",
    "    print(\"올해 비가 많이 왔습니다\")\n",
    "\n",
    "print(\"농작물 수확량이 현저히 줄었습니다\")\n",
    "\n",
    "수확()"
   ]
  },
  {
   "cell_type": "code",
   "execution_count": 4,
   "metadata": {},
   "outputs": [
    {
     "name": "stdout",
     "output_type": "stream",
     "text": [
      "옥수수와 수박의 수확량 :  12\n"
     ]
    }
   ],
   "source": [
    "def function(x, y):\n",
    "    z = x + y\n",
    "    return z\n",
    "\n",
    "#A등급 10마리, B등급 9마리\n",
    "print(\"옥수수와 수박의 수확량 : \", function(10, 2))\n"
   ]
  },
  {
   "cell_type": "code",
   "execution_count": 5,
   "metadata": {},
   "outputs": [
    {
     "name": "stdout",
     "output_type": "stream",
     "text": [
      "고라니 2마리를 잡았습니다\n"
     ]
    }
   ],
   "source": [
    "def 수확():\n",
    "    print(\"고라니 2마리를 잡았습니다\")\n",
    "수확()"
   ]
  },
  {
   "cell_type": "code",
   "execution_count": 6,
   "metadata": {},
   "outputs": [
    {
     "name": "stdout",
     "output_type": "stream",
     "text": [
      "12\n",
      "옥수수와 수박의 수확량 :  None\n"
     ]
    }
   ],
   "source": [
    "def function(x, y):\n",
    "    z = x + y\n",
    "    print(z)\n",
    "\n",
    "#A등급 10마리, B등급 9마리\n",
    "print(\"옥수수와 수박의 수확량 : \" , function(10, 2))\n"
   ]
  },
  {
   "cell_type": "code",
   "execution_count": 7,
   "metadata": {},
   "outputs": [
    {
     "name": "stdout",
     "output_type": "stream",
     "text": [
      "5000 원입니다.\n"
     ]
    }
   ],
   "source": [
    "def 계산(가격, 개수):\n",
    "    return  가격 * 개수\n",
    "print(계산(1000, 5), \"원입니다.\")\n"
   ]
  },
  {
   "cell_type": "code",
   "execution_count": 8,
   "metadata": {},
   "outputs": [
    {
     "name": "stdout",
     "output_type": "stream",
     "text": [
      "6300 원입니다.\n"
     ]
    }
   ],
   "source": [
    "def 계산(a, b, c):\n",
    "    합계 = a * 1000 + b * 500 + c * 100\n",
    "    return 합계\n",
    "\n",
    "print(계산(5, 2, 3), \"원입니다.\")"
   ]
  },
  {
   "cell_type": "code",
   "execution_count": 10,
   "metadata": {},
   "outputs": [
    {
     "data": {
      "text/plain": [
       "101"
      ]
     },
     "execution_count": 10,
     "metadata": {},
     "output_type": "execute_result"
    }
   ],
   "source": [
    "a = 100\n",
    "def f():\n",
    "    global a\n",
    "    a = a + 1\n",
    "    return a\n",
    "f()"
   ]
  },
  {
   "cell_type": "code",
   "execution_count": 13,
   "metadata": {},
   "outputs": [
    {
     "name": "stdout",
     "output_type": "stream",
     "text": [
      "6300 원입니다\n"
     ]
    }
   ],
   "source": [
    "won = {'A등급':1000, 'B등급':500, 'C등급':100}\n",
    "\n",
    "def 계산(a, b, c):\n",
    "    합계 = won['A등급'] * a + won['B등급'] * b + won['C등급'] * c\n",
    "    return 합계\n",
    "\n",
    "print(계산(5, 2, 3),\"원입니다\")\n"
   ]
  },
  {
   "cell_type": "code",
   "execution_count": 1,
   "metadata": {},
   "outputs": [
    {
     "name": "stdout",
     "output_type": "stream",
     "text": [
      "314.0\n"
     ]
    }
   ],
   "source": [
    "#상수\n",
    "PI = 3.14\n",
    "def circle(r, inputpi):\n",
    "    z = r * r * inputpi\n",
    "    return z\n",
    "\n",
    "result = circle(10, PI)\n",
    "print(result)"
   ]
  },
  {
   "cell_type": "code",
   "execution_count": 2,
   "metadata": {},
   "outputs": [
    {
     "name": "stdout",
     "output_type": "stream",
     "text": [
      "오늘 수확한 수확물 : 12\n"
     ]
    }
   ],
   "source": [
    "A = 0\n",
    "B = 0\n",
    "C = 0\n",
    "유물 = 0\n",
    "\n",
    "def 감자():\n",
    "    global A #0\n",
    "    A += 1 #1\n",
    "\n",
    "def 양파():\n",
    "    global A, B, C #1, 0, 0\n",
    "    A += 3 #4\n",
    "    B += 3 #3\n",
    "    C += 4 #4\n",
    "    \n",
    "def 옥수수():\n",
    "    global 유물 #0\n",
    "    유물 += 1\n",
    "\n",
    "감자()\n",
    "양파()\n",
    "옥수수()\n",
    "\n",
    "합계 = A + B + C + 유물\n",
    "print('오늘 수확한 수확물 :', 합계)\n"
   ]
  },
  {
   "cell_type": "code",
   "execution_count": null,
   "metadata": {},
   "outputs": [],
   "source": [
    "#지역변수와 전역변수 공부하기"
   ]
  },
  {
   "cell_type": "markdown",
   "metadata": {},
   "source": [
    "def 함수이름 ():\n",
    "    코드\n",
    "    def 함수이름 2():\n",
    "        코드"
   ]
  },
  {
   "cell_type": "code",
   "execution_count": 3,
   "metadata": {},
   "outputs": [
    {
     "name": "stdout",
     "output_type": "stream",
     "text": [
      "콩콩팥팥 수확의 기쁨\n"
     ]
    }
   ],
   "source": [
    "def print_text():\n",
    "    text = \"콩콩팥팥 수확의 기쁨\" #함수선언\n",
    "    def txt(): #함수 내 함수선언 가능\n",
    "        print(text)\n",
    "    txt()\n",
    "print_text()"
   ]
  },
  {
   "cell_type": "markdown",
   "metadata": {},
   "source": [
    "## 연산자 우선순위\n",
    "1. (값..), [값..], {키:값..}, {값..} : 튜플, 리스트, 딕셔너리, 세트 생성\n",
    "2. x[인덱스],x[인덱스:인덱스],x(인수),x 속성 : 리스트(튜플) 첨자, 슬라이싱, 함수 호출,  속성참조\n",
    "3. await x : await 표현식\n",
    "4. ** : 거듭제곱\n",
    "5. +x, -x, ~x : 단항 덧셈, 단항 뺄셈, 비트 N\n",
    "6. *, @, /, //, % : 곱셈, 행렬 곱셈, 나눗셈, 버림 나눗셈, 나머지\n",
    "7. +, - : 덧셈, 뺄셈\n",
    "8. <<, >> : 비트 시프트\n",
    "9. & : 비트 AND\n",
    "10. ^ : 비트 OR\n",
    "11. | : 비트 XOR\n",
    "12. in, not in, is, is not <, <=, >, >=, ==, != : 포함 연산자, 객체 비교 연산자, 비교 연산자\n",
    "13. not x : 논리 NOT\n",
    "14. and : 논리 AND\n",
    "15. or : 논리 OR\n",
    "16. if else : 조건부 표현식\n",
    "17. lamda : 람다 표현식"
   ]
  }
 ],
 "metadata": {
  "kernelspec": {
   "display_name": "Python 3",
   "language": "python",
   "name": "python3"
  },
  "language_info": {
   "codemirror_mode": {
    "name": "ipython",
    "version": 3
   },
   "file_extension": ".py",
   "mimetype": "text/x-python",
   "name": "python",
   "nbconvert_exporter": "python",
   "pygments_lexer": "ipython3",
   "version": "3.9.6"
  }
 },
 "nbformat": 4,
 "nbformat_minor": 2
}
