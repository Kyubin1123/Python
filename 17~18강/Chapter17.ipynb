{
 "cells": [
  {
   "cell_type": "code",
   "execution_count": 1,
   "metadata": {},
   "outputs": [
    {
     "name": "stdout",
     "output_type": "stream",
     "text": [
      "양파 2개를 수확했습니다.\n",
      "대파를 수확했습니다\n"
     ]
    }
   ],
   "source": [
    "def 양파():\n",
    "    print(\"양파 2개를 수확했습니다.\")\n",
    "def 대파():\n",
    "    print(\"대파를 수확했습니다\")\n",
    "\n",
    "#함수 호출하기\n",
    "양파()\n",
    "대파()"
   ]
  },
  {
   "cell_type": "code",
   "execution_count": 2,
   "metadata": {},
   "outputs": [
    {
     "name": "stdout",
     "output_type": "stream",
     "text": [
      "농작물 수확량이 현저히 줄었습니다\n",
      "올해 비가 많이 왔습니다\n"
     ]
    }
   ],
   "source": [
    "def 수확():\n",
    "    print(\"올해 비가 많이 왔습니다\")\n",
    "\n",
    "print(\"농작물 수확량이 현저히 줄었습니다\")\n",
    "\n",
    "수확()"
   ]
  },
  {
   "cell_type": "code",
   "execution_count": 4,
   "metadata": {},
   "outputs": [
    {
     "name": "stdout",
     "output_type": "stream",
     "text": [
      "옥수수와 수박의 수확량 :  12\n"
     ]
    }
   ],
   "source": [
    "def function(x, y):\n",
    "    z = x + y\n",
    "    return z\n",
    "\n",
    "#A등급 10마리, B등급 9마리\n",
    "print(\"옥수수와 수박의 수확량 : \", function(10, 2))\n"
   ]
  },
  {
   "cell_type": "code",
   "execution_count": 5,
   "metadata": {},
   "outputs": [
    {
     "name": "stdout",
     "output_type": "stream",
     "text": [
      "고라니 2마리를 잡았습니다\n"
     ]
    }
   ],
   "source": [
    "def 수확():\n",
    "    print(\"고라니 2마리를 잡았습니다\")\n",
    "수확()"
   ]
  },
  {
   "cell_type": "code",
   "execution_count": 6,
   "metadata": {},
   "outputs": [
    {
     "name": "stdout",
     "output_type": "stream",
     "text": [
      "12\n",
      "옥수수와 수박의 수확량 :  None\n"
     ]
    }
   ],
   "source": [
    "def function(x, y):\n",
    "    z = x + y\n",
    "    print(z)\n",
    "\n",
    "#A등급 10마리, B등급 9마리\n",
    "print(\"옥수수와 수박의 수확량 : \" , function(10, 2))\n"
   ]
  },
  {
   "cell_type": "code",
   "execution_count": 7,
   "metadata": {},
   "outputs": [
    {
     "name": "stdout",
     "output_type": "stream",
     "text": [
      "5000 원입니다.\n"
     ]
    }
   ],
   "source": [
    "def 계산(가격, 개수):\n",
    "    return  가격 * 개수\n",
    "print(계산(1000, 5), \"원입니다.\")\n"
   ]
  },
  {
   "cell_type": "code",
   "execution_count": 8,
   "metadata": {},
   "outputs": [
    {
     "name": "stdout",
     "output_type": "stream",
     "text": [
      "6300 원입니다.\n"
     ]
    }
   ],
   "source": [
    "def 계산(a, b, c):\n",
    "    합계 = a * 1000 + b * 500 + c * 100\n",
    "    return 합계\n",
    "\n",
    "print(계산(5, 2, 3), \"원입니다.\")"
   ]
  },
  {
   "cell_type": "code",
   "execution_count": 10,
   "metadata": {},
   "outputs": [
    {
     "data": {
      "text/plain": [
       "101"
      ]
     },
     "execution_count": 10,
     "metadata": {},
     "output_type": "execute_result"
    }
   ],
   "source": [
    "a = 100\n",
    "def f():\n",
    "    global a\n",
    "    a = a + 1\n",
    "    return a\n",
    "f()"
   ]
  },
  {
   "cell_type": "code",
   "execution_count": 13,
   "metadata": {},
   "outputs": [
    {
     "name": "stdout",
     "output_type": "stream",
     "text": [
      "6300 원입니다\n"
     ]
    }
   ],
   "source": [
    "won = {'A등급':1000, 'B등급':500, 'C등급':100}\n",
    "\n",
    "def 계산(a, b, c):\n",
    "    합계 = won['A등급'] * a + won['B등급'] * b + won['C등급'] * c\n",
    "    return 합계\n",
    "\n",
    "print(계산(5, 2, 3),\"원입니다\")\n"
   ]
  }
 ],
 "metadata": {
  "kernelspec": {
   "display_name": "Python 3",
   "language": "python",
   "name": "python3"
  },
  "language_info": {
   "codemirror_mode": {
    "name": "ipython",
    "version": 3
   },
   "file_extension": ".py",
   "mimetype": "text/x-python",
   "name": "python",
   "nbconvert_exporter": "python",
   "pygments_lexer": "ipython3",
   "version": "3.9.6"
  }
 },
 "nbformat": 4,
 "nbformat_minor": 2
}
