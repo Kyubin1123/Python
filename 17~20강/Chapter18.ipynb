{
 "cells": [
  {
   "cell_type": "markdown",
   "metadata": {},
   "source": [
    "# 클래스\n",
    "\n",
    "객체에 해당하는 것들\n",
    "- 게임 캐릭터(궁수, 성직자 등등)\n",
    "- 집, 나무 자동차\n",
    "- 네이버 홈페이지의 버튼들"
   ]
  },
  {
   "cell_type": "code",
   "execution_count": null,
   "metadata": {},
   "outputs": [],
   "source": [
    "'''\n",
    "class 클래스 이름:\n",
    "    def 매서드(self):\n",
    "        코드\n",
    "'''"
   ]
  },
  {
   "cell_type": "code",
   "execution_count": 2,
   "metadata": {},
   "outputs": [
    {
     "name": "stdout",
     "output_type": "stream",
     "text": [
      "수강생 여러분\n"
     ]
    }
   ],
   "source": [
    "class Person:\n",
    "    def hello(self):\n",
    "        print(\"수강생 여러분\")\n",
    "\n",
    "호출 = Person() #인스턴스\n",
    "호출.hello() #.index(), .count()"
   ]
  },
  {
   "cell_type": "code",
   "execution_count": 3,
   "metadata": {},
   "outputs": [
    {
     "name": "stdout",
     "output_type": "stream",
     "text": [
      "[0, 1, 2, 3, 4, 5, 6, 7, 8, 9]\n"
     ]
    }
   ],
   "source": [
    "#a 와 b 모두 인스턴스.\n",
    "\n",
    "a = int(10)\n",
    "a\n",
    "\n",
    "b = list(range(10))\n",
    "print(b)\n",
    "\n",
    "# 인스턴스와 객체 무슨차이?\n",
    "# 인스턴스와 객체는 같음! 다만, 인스턴스+클래스 = 객체\n",
    "# 객체 자체를 언급할 때는 객체라고 합니다."
   ]
  },
  {
   "cell_type": "code",
   "execution_count": null,
   "metadata": {},
   "outputs": [],
   "source": [
    "'''\n",
    "class 클래스이름:\n",
    "     def __init__(self):\n",
    "          self.속성 = 값\n",
    "'''"
   ]
  },
  {
   "cell_type": "code",
   "execution_count": 5,
   "metadata": {},
   "outputs": [
    {
     "name": "stdout",
     "output_type": "stream",
     "text": [
      "안녕하세요\n"
     ]
    }
   ],
   "source": [
    "class Person:\n",
    "    def __init__(self): #self는 인스턴스 자기자신!\n",
    "        # __init__(self)에서 self에 들어가는 값은 Person()\n",
    "        self.hello = \"안녕하세요\"\n",
    "    def greeting(self):\n",
    "        print(self.hello)\n",
    "\n",
    "호출 = Person()\n",
    "호출.greeting()\n"
   ]
  },
  {
   "cell_type": "code",
   "execution_count": 7,
   "metadata": {},
   "outputs": [
    {
     "name": "stdout",
     "output_type": "stream",
     "text": [
      "안녕하세요. 저는 마리아입니다.\n",
      "이름: 마리아\n",
      "나이: 20\n",
      "주소: 서울시 서초구 반포동\n"
     ]
    }
   ],
   "source": [
    "class Person:\n",
    "    def __init__(self, name, age, address):\n",
    "        self.hello = '안녕하세요.'\n",
    "        self.name = name\n",
    "        self.age = age\n",
    "        self.address = address\n",
    "    \n",
    "    def greeting(self):\n",
    "        print('{0} 저는 {1}입니다.'.format(self.hello, self.name))\n",
    "\n",
    "maria = Person('마리아', 20, '서울시 서초구 반포동')\n",
    "maria.greeting()\n",
    "\n",
    "print('이름:', maria.name)\n",
    "print('나이:', maria.age)\n",
    "print('주소:', maria.address)"
   ]
  },
  {
   "cell_type": "code",
   "execution_count": 11,
   "metadata": {},
   "outputs": [
    {
     "name": "stdout",
     "output_type": "stream",
     "text": [
      "300 만큼 달릴 수 있습니다.\n",
      "10 스피드로 달리고 있습니다.\n"
     ]
    }
   ],
   "source": [
    "class Car (object):\n",
    "    maxspeed = 300\n",
    "    maxpeople = 5\n",
    "    def move(self, x):\n",
    "        print(\"스피드로 달리고 있습니다.\")\n",
    "    def stop(self):\n",
    "        print(\"멈췄습니다.\")\n",
    "\n",
    "class HybridCar(Car): #Car 클래스를 상속받음\n",
    "    battery = 1000\n",
    "    batteryKM = 300\n",
    "\n",
    "class ElectricCar(HybridCar):\n",
    "    battery = 1000\n",
    "    batteryKM = 300\n",
    "    def move(self, x):\n",
    "        print(self.batteryKM, '만큼 달릴 수 있습니다.')\n",
    "        print(x, '스피드로 달리고 있습니다.')\n",
    "\n",
    "k5 = HybridCar()\n",
    "k5.maxspeed\n",
    "\n",
    "electricCark5 = ElectricCar()\n",
    "electricCark5.maxspeed\n",
    "electricCark5.battery\n",
    "electricCark5.move(10)\n",
    "\n",
    "#print(dir(k5))"
   ]
  }
 ],
 "metadata": {
  "kernelspec": {
   "display_name": "Python 3",
   "language": "python",
   "name": "python3"
  },
  "language_info": {
   "codemirror_mode": {
    "name": "ipython",
    "version": 3
   },
   "file_extension": ".py",
   "mimetype": "text/x-python",
   "name": "python",
   "nbconvert_exporter": "python",
   "pygments_lexer": "ipython3",
   "version": "3.9.6"
  }
 },
 "nbformat": 4,
 "nbformat_minor": 2
}
