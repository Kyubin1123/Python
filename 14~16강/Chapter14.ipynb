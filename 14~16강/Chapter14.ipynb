{
 "cells": [
  {
   "cell_type": "markdown",
   "metadata": {},
   "source": [
    "### 1. if문이란?\n",
    "* 특정 조건일때 코드를 실행하는 문법\n",
    "\n",
    "if 파이썬을 정보한다면 :\n",
    "    개발자로 취질할 수 있다.\n",
    "\n",
    "### 2. if문 문법과 주의사항 (콜론, 들여쓰기)\n",
    "들여쓰기 블록, 콜론 놓지지 않도록 하기"
   ]
  },
  {
   "cell_type": "code",
   "execution_count": 1,
   "metadata": {},
   "outputs": [
    {
     "name": "stdout",
     "output_type": "stream",
     "text": [
      "개당 1800원 입니다.\n"
     ]
    }
   ],
   "source": [
    "#2. if문 문법과 주의사항(콜론, 들여쓰기)\n",
    "개수 = int(input(\"붕어빵 몇개 사실 건가요?\"))\n",
    "\n",
    "if 개수 > 3:\n",
    "    print(\"개당 1800원 입니다.\")"
   ]
  },
  {
   "cell_type": "code",
   "execution_count": 2,
   "metadata": {},
   "outputs": [
    {
     "name": "stdout",
     "output_type": "stream",
     "text": [
      "개당 2000원 입니다.\n"
     ]
    }
   ],
   "source": [
    "#3. if문의 흐름 (작동원리)\n",
    "#코드는 위에 아래 순서대로 작동합니다.\n",
    "\n",
    "#2)개수라는 변수에 담음   1) 입력을 받음\n",
    "개수 = int(input(\"붕어빵 몇개 사실 건가요?\"))\n",
    "#3) 개수 변수가 있네 값이 뭐지 4 > 3 True 또는 False\n",
    "if 개수 > 3:\n",
    "    print(\"개당 1800원 입니다.\") #4) 조건이 True이면 if문 안에 코드가 실행됨\n",
    "\n",
    "if 개수 <= 3:\n",
    "    print(\"개당 2000원 입니다.\")"
   ]
  },
  {
   "cell_type": "code",
   "execution_count": 4,
   "metadata": {},
   "outputs": [
    {
     "name": "stdout",
     "output_type": "stream",
     "text": [
      "의문의 숫자는 5보다 크고 10보다 작습니다.\n"
     ]
    }
   ],
   "source": [
    "#4 if 중첩문\n",
    "\n",
    "의문의_숫자 = 10\n",
    "if 의문의_숫자 > 5:\n",
    "    if 의문의_숫자 <15:\n",
    "        print(\"의문의 숫자는 5보다 크고 10보다 작습니다.\")\n"
   ]
  },
  {
   "cell_type": "code",
   "execution_count": 5,
   "metadata": {},
   "outputs": [
    {
     "name": "stdout",
     "output_type": "stream",
     "text": [
      "개당 2000원 입니다.\n"
     ]
    }
   ],
   "source": [
    "#5 if ~else 문법과 주의사항(콜론, 들여쓰기)\n",
    "#6 if ~else문 흐름(작동원리)\n",
    "#True일때는 if문 안에 작성된 코드가 실행됩니다.\n",
    "#False일때는 if문 안에 작성된 코드가 실행됩니다.\n",
    "\n",
    "개수 = int(input(\"붕어빵 몇개 사실 건가요?\"))\n",
    "\n",
    "if 개수 > 3:\n",
    "    print(\"개당 1800원 입니다.\")\n",
    "else:\n",
    "    print(\"개당 2000원 입니다.\")"
   ]
  },
  {
   "cell_type": "code",
   "execution_count": 6,
   "metadata": {},
   "outputs": [
    {
     "name": "stdout",
     "output_type": "stream",
     "text": [
      "True\n",
      "False\n",
      "False\n",
      "False\n",
      "True\n"
     ]
    }
   ],
   "source": [
    "#7. 조건문 조건(True, False)\n",
    "#True\n",
    "if True:\n",
    "    print(True)\n",
    "else:\n",
    "    print(False)\n",
    "\n",
    "#False\n",
    "if False:\n",
    "    print(True)\n",
    "else:\n",
    "    print(False)\n",
    "\n",
    "#none\n",
    "if None:\n",
    "    print(True)\n",
    "else:\n",
    "    print(False)\n",
    "\n",
    "#0\n",
    "if 0:\n",
    "    print(True)\n",
    "else:\n",
    "    print(False)\n",
    "\n",
    "#not\n",
    "if not False:\n",
    "    print(True)\n",
    "else:\n",
    "    print(False)\n"
   ]
  },
  {
   "cell_type": "code",
   "execution_count": 7,
   "metadata": {},
   "outputs": [
    {
     "name": "stdout",
     "output_type": "stream",
     "text": [
      "동일합니다.\n",
      "동일합니다.\n"
     ]
    }
   ],
   "source": [
    "#8 조건식 여러개 설정하기\n",
    "\n",
    "a, b = 10, 30\n",
    "\n",
    "if a==10 and b==30:\n",
    "    print(\"동일합니다.\")\n",
    "else:\n",
    "    print(\"동일하지 않습니다.\")\n",
    "\n",
    "if a==10 or b==20:\n",
    "    print(\"동일합니다.\")\n",
    "else:\n",
    "    print(\"동일하지 않습니다.\")"
   ]
  },
  {
   "cell_type": "code",
   "execution_count": 8,
   "metadata": {},
   "outputs": [
    {
     "name": "stdout",
     "output_type": "stream",
     "text": [
      "슈크림을 선택하셨습니다\n"
     ]
    }
   ],
   "source": [
    "#9. elif ~ if문\n",
    "맛 = input(\"붕어빵 맛을 골라주세요(팥, 슈크림, 잡채)\")\n",
    "\n",
    "if 맛 == \"팥\":\n",
    "    print(f'{맛}을 선택하셨습니다')\n",
    "elif 맛 == \"슈크림\":\n",
    "    print(f'{맛}을 선택하셨습니다')\n",
    "else:\n",
    "    print(f'{맛}을 선택하셨습니다')"
   ]
  },
  {
   "cell_type": "code",
   "execution_count": null,
   "metadata": {},
   "outputs": [],
   "source": [
    "#10. 예제로 if문 익혀보기\n",
    "#문제 : 단어 a의 가운데 글자를 반환하는 코드\n",
    "#조검 : 단어의 길이가 짝수라면 가운데 두글자를 출력하면 됩니다.\n",
    "\n",
    "a = input()\n",
    "\n",
    "가운데_인덱스 = int(len(a) / 2)\n",
    "\n",
    "if len(a)%2 != 0 :\n",
    "    print(a[가운데_인덱스])\n",
    "else:\n",
    "    print(a[가운데_인덱스-1:가운데_인덱스+1])"
   ]
  }
 ],
 "metadata": {
  "kernelspec": {
   "display_name": "Python 3",
   "language": "python",
   "name": "python3"
  },
  "language_info": {
   "codemirror_mode": {
    "name": "ipython",
    "version": 3
   },
   "file_extension": ".py",
   "mimetype": "text/x-python",
   "name": "python",
   "nbconvert_exporter": "python",
   "pygments_lexer": "ipython3",
   "version": "3.9.6"
  }
 },
 "nbformat": 4,
 "nbformat_minor": 2
}
