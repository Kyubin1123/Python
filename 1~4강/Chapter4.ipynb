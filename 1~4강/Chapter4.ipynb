{
 "cells": [
  {
   "cell_type": "markdown",
   "metadata": {},
   "source": [
    "##사칙연산\n",
    "더하기 : +\n",
    "\n",
    "빼기 : -\n",
    "\n",
    "곱하기 : *\n",
    "\n",
    "나누기 :\n",
    "* / : 우리가 알고 있는 나누기의 동일한 기능(예 5/2 = 2.5)\n",
    "* // : 몫을 반환 (예 5//2 =  2)\n",
    "* % : 나머지를 반환 (얘 5%2 = 1)\n",
    "\n",
    "거듭제곱 : **"
   ]
  },
  {
   "cell_type": "code",
   "execution_count": null,
   "metadata": {
    "vscode": {
     "languageId": "plaintext"
    }
   },
   "outputs": [],
   "source": [
    "#더하기\n",
    "print(3+2)"
   ]
  },
  {
   "cell_type": "code",
   "execution_count": null,
   "metadata": {
    "vscode": {
     "languageId": "plaintext"
    }
   },
   "outputs": [],
   "source": [
    "#빼기\n",
    "print(3-1)"
   ]
  },
  {
   "cell_type": "code",
   "execution_count": null,
   "metadata": {
    "vscode": {
     "languageId": "plaintext"
    }
   },
   "outputs": [],
   "source": [
    "#곱하기\n",
    "print(3*2)"
   ]
  },
  {
   "cell_type": "code",
   "execution_count": null,
   "metadata": {
    "vscode": {
     "languageId": "plaintext"
    }
   },
   "outputs": [],
   "source": [
    "#/\n",
    "print(7/2)\n",
    "#//\n",
    "print(7//2)\n",
    "#%\n",
    "print(7%2)"
   ]
  },
  {
   "cell_type": "markdown",
   "metadata": {},
   "source": [
    "내장함수 : Divmod\n",
    "\n",
    "> 내장함수 : 자주 사용하는 기능을 미리 만들어 놓은것을 내장함수라고 함\n",
    "*divmod* : 몫과 나머지를 동시에 구해줌"
   ]
  },
  {
   "cell_type": "code",
   "execution_count": null,
   "metadata": {
    "vscode": {
     "languageId": "plaintext"
    }
   },
   "outputs": [],
   "source": [
    "print(divmode(3,2))\n",
    "print(divmode(7,4))\n",
    "print(divmode(13,2))\n",
    "print(divmode(19,4))\n",
    "print(divmode(15,5))"
   ]
  }
 ],
 "metadata": {
  "language_info": {
   "name": "python"
  }
 },
 "nbformat": 4,
 "nbformat_minor": 2
}
