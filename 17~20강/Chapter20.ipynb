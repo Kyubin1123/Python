{
 "cells": [
  {
   "cell_type": "markdown",
   "metadata": {},
   "source": [
    "## 파일 입출력\n",
    "\n",
    "### 웹 > 크롤링 > 데이터베이스 > 1차 클렌징 > 출력 후 담당자 전달 > 2차 클렌징 > 유용한 데이터셋 > csv 데이터베이스 입력 > 인공지능 학습"
   ]
  },
  {
   "cell_type": "code",
   "execution_count": 1,
   "metadata": {},
   "outputs": [
    {
     "data": {
      "text/plain": [
       "'/Users/choiseung-won/Desktop/training/python/17~20강'"
      ]
     },
     "execution_count": 1,
     "metadata": {},
     "output_type": "execute_result"
    }
   ],
   "source": [
    "pwd #현재 위치표시"
   ]
  },
  {
   "cell_type": "code",
   "execution_count": 3,
   "metadata": {},
   "outputs": [
    {
     "name": "stdout",
     "output_type": "stream",
     "text": [
      "/Users/choiseung-won/Desktop/training/python/17~20강\n"
     ]
    }
   ],
   "source": [
    "cd /Users/choiseung-won/Desktop/training/python/17~20강"
   ]
  },
  {
   "cell_type": "markdown",
   "metadata": {},
   "source": [
    "r - 읽기  \n",
    "w - 쓰기(주의:덮어쓰기)  \n",
    "a - 추가  "
   ]
  },
  {
   "cell_type": "code",
   "execution_count": 6,
   "metadata": {},
   "outputs": [],
   "source": [
    "f = open('test.txt','w')\n",
    "f.write('수강생 여러분')\n",
    "f.close()"
   ]
  },
  {
   "cell_type": "code",
   "execution_count": 7,
   "metadata": {},
   "outputs": [],
   "source": [
    "f = open('test.txt','w')\n",
    "f.write('개발자 여러분')\n",
    "f.close()"
   ]
  },
  {
   "cell_type": "code",
   "execution_count": 8,
   "metadata": {},
   "outputs": [],
   "source": [
    "f = open('test.txt','w')\n",
    "f.write('''개발자 여러분\n",
    "개발자 여러분\n",
    "        ''')\n",
    "f.close()"
   ]
  },
  {
   "cell_type": "code",
   "execution_count": 10,
   "metadata": {},
   "outputs": [],
   "source": [
    "f = open('test.txt', 'w')\n",
    "메세지 = ''\n",
    "\n",
    "for i in range(10):\n",
    "    메세지 += \"개발자여러분\\n\"\n",
    "f.write(메세지)\n",
    "f.close()"
   ]
  },
  {
   "cell_type": "code",
   "execution_count": 11,
   "metadata": {},
   "outputs": [
    {
     "name": "stdout",
     "output_type": "stream",
     "text": [
      "개발자여러분\n",
      "개발자여러분\n",
      "개발자여러분\n",
      "개발자여러분\n",
      "개발자여러분\n",
      "개발자여러분\n",
      "개발자여러분\n",
      "개발자여러분\n",
      "개발자여러분\n",
      "개발자여러분\n",
      "\n"
     ]
    }
   ],
   "source": [
    "f = open('test.txt', 'r')\n",
    "s = f.read()\n",
    "print(s)\n",
    "f.close()"
   ]
  },
  {
   "cell_type": "code",
   "execution_count": 14,
   "metadata": {},
   "outputs": [
    {
     "name": "stdout",
     "output_type": "stream",
     "text": [
      "개발자여러분\n",
      "\n",
      "<class 'str'>\n"
     ]
    }
   ],
   "source": [
    "f = open('test.txt', 'r')\n",
    "line = f.readline()\n",
    "print(line)\n",
    "print(type(line))\n",
    "f.close()"
   ]
  },
  {
   "cell_type": "code",
   "execution_count": 15,
   "metadata": {},
   "outputs": [
    {
     "name": "stdout",
     "output_type": "stream",
     "text": [
      "개발자여러분\n",
      "\n",
      "개발자여러분\n",
      "\n",
      "개발자여러분\n",
      "\n",
      "개발자여러분\n",
      "\n",
      "개발자여러분\n",
      "\n",
      "개발자여러분\n",
      "\n",
      "개발자여러분\n",
      "\n",
      "개발자여러분\n",
      "\n",
      "개발자여러분\n",
      "\n",
      "개발자여러분\n",
      "\n",
      "\n"
     ]
    }
   ],
   "source": [
    "f = open('test.txt', 'r')\n",
    "while line:\n",
    "    line = f.readline()\n",
    "    print(line)\n",
    "f.close()"
   ]
  },
  {
   "cell_type": "code",
   "execution_count": 16,
   "metadata": {},
   "outputs": [],
   "source": [
    "f = open('test.txt', 'a')\n",
    "f.write(\"fighting\")\n",
    "f.close()"
   ]
  },
  {
   "cell_type": "code",
   "execution_count": 18,
   "metadata": {},
   "outputs": [],
   "source": [
    "with open ('test.txt', 'a') as f:\n",
    "    f.write(\"fighting!!\")"
   ]
  },
  {
   "cell_type": "code",
   "execution_count": 19,
   "metadata": {},
   "outputs": [],
   "source": [
    "list = [10, 20, 30]\n",
    "\n",
    "with open ('test.txt', 'a') as f:\n",
    "    f.write(str(list))"
   ]
  },
  {
   "cell_type": "code",
   "execution_count": 20,
   "metadata": {},
   "outputs": [],
   "source": [
    "list = [10, 20, 30]\n",
    "with open('js.txt', 'w') as f:\n",
    "    f.write('let test=' +str(list))\n",
    "    #자바스크립트 문법으로 응용법"
   ]
  },
  {
   "cell_type": "code",
   "execution_count": 21,
   "metadata": {},
   "outputs": [],
   "source": [
    "list = ['10', '20', '30']\n",
    "with open('test.txt', 'a') as f:\n",
    "    f.writelines(list)"
   ]
  },
  {
   "cell_type": "code",
   "execution_count": 22,
   "metadata": {},
   "outputs": [],
   "source": [
    "#csv\n",
    "list = ['10', '20', '30']\n",
    "\n",
    "with open('test3.csv', 'w') as f:\n",
    "    f.write(','.join(list))"
   ]
  }
 ],
 "metadata": {
  "kernelspec": {
   "display_name": "Python 3",
   "language": "python",
   "name": "python3"
  },
  "language_info": {
   "codemirror_mode": {
    "name": "ipython",
    "version": 3
   },
   "file_extension": ".py",
   "mimetype": "text/x-python",
   "name": "python",
   "nbconvert_exporter": "python",
   "pygments_lexer": "ipython3",
   "version": "3.9.6"
  }
 },
 "nbformat": 4,
 "nbformat_minor": 2
}
