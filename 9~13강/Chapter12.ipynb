{
 "cells": [
  {
   "cell_type": "code",
   "execution_count": 2,
   "metadata": {},
   "outputs": [
    {
     "name": "stdout",
     "output_type": "stream",
     "text": [
      "{'힘': 30, '지능': 20, '체력': 40, '민첩': 90}\n",
      "전사님은 힘이 30입니다.\n"
     ]
    }
   ],
   "source": [
    "# list [], tuple (), dict{}\n",
    "\n",
    "전사 = {\"힘\":30, \"지능\":20, \"체력\":40, \"민첩\":90}\n",
    "print(전사)\n",
    "\n",
    "#{키 : 값}\n",
    "#{key1:value1, key2:value2}\n",
    "\n",
    "#시퀀스 데이터는 인덱싱을 이용해 데이터를 찾았습니다.\n",
    "\n",
    "#전사[1]\n",
    "전사[\"힘\"]\n",
    "print(f'전사님은 힘이 {전사[\"힘\"]}입니다.')"
   ]
  },
  {
   "cell_type": "code",
   "execution_count": 5,
   "metadata": {},
   "outputs": [
    {
     "name": "stdout",
     "output_type": "stream",
     "text": [
      "{}\n",
      "{}\n",
      "{'힘': 30, '지능': 20, '체력': 40, '민첩': 90}\n",
      "{'힘': 40, '지능': 90, '체력': 20, '민첩': 30}\n"
     ]
    }
   ],
   "source": [
    "#딕셔너리를 만드는 다양한 방법\n",
    "\n",
    "#빈 딕셔너리 만들기\n",
    "딕셔너리 = {}\n",
    "print(딕셔너리)\n",
    "\n",
    "딕셔너리2 =dict()\n",
    "print(딕셔너리2)\n",
    "\n",
    "#값을 넗어 만드는 방법\n",
    "#dict()로 생성시 값 넣는 기호 \"\"\". : 주의해주세요\n",
    "\n",
    "딕셔너리3 = dict(힘=30, 지능=20, 체력=40, 민첩=90)\n",
    "print(딕셔너리3)\n",
    "\n",
    "#zip() : 병렬처리를 도와줍니다.\n",
    "딕셔너리4 = dict(zip([\"힘\",\"지능\",\"체력\",\"민첩\"],{30,20,40,90}))\n",
    "print(딕셔너리4)"
   ]
  },
  {
   "cell_type": "code",
   "execution_count": 8,
   "metadata": {},
   "outputs": [
    {
     "name": "stdout",
     "output_type": "stream",
     "text": [
      "{'힘': 40, '지능': 20, '체력': 40, '민첩': 90, '지구력': 90}\n"
     ]
    },
    {
     "data": {
      "text/plain": [
       "True"
      ]
     },
     "execution_count": 8,
     "metadata": {},
     "output_type": "execute_result"
    }
   ],
   "source": [
    "#값은 중복은 허락되는데, 키의 중복은 허락하지 않습니다.\n",
    "#키가 중복이 될경우에는 앞선것은 사라지고 뒤에것만 남음\n",
    "\n",
    "전사 = {\"힘\":30, \"지능\":20, \"체력\":40, \"민첩\":90, \"힘\":40, \"지구력\":90}\n",
    "print(전사)\n",
    "\n",
    "\"체력\" in 전사"
   ]
  },
  {
   "cell_type": "code",
   "execution_count": null,
   "metadata": {},
   "outputs": [],
   "source": [
    "#딕셔너리에 다양한 메소드\n",
    "\n",
    "print(전사.keys())\n",
    "print(전사.values())\n",
    "\n",
    "print(전사.items())\n",
    "print(type(전사.items()))\n",
    "\n",
    "리스트화된_전사"
   ]
  }
 ],
 "metadata": {
  "kernelspec": {
   "display_name": "Python 3",
   "language": "python",
   "name": "python3"
  },
  "language_info": {
   "codemirror_mode": {
    "name": "ipython",
    "version": 3
   },
   "file_extension": ".py",
   "mimetype": "text/x-python",
   "name": "python",
   "nbconvert_exporter": "python",
   "pygments_lexer": "ipython3",
   "version": "3.9.6"
  }
 },
 "nbformat": 4,
 "nbformat_minor": 2
}
