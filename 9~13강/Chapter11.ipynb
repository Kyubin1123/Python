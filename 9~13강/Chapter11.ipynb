{
 "cells": [
  {
   "cell_type": "markdown",
   "metadata": {},
   "source": []
  },
  {
   "cell_type": "code",
   "execution_count": 4,
   "metadata": {},
   "outputs": [
    {
     "name": "stdout",
     "output_type": "stream",
     "text": [
      "(1, '이', 3.0)\n",
      "<class 'tuple'>\n",
      "[1, '이', 3.0]\n",
      "<class 'list'>\n",
      "<class 'tuple'>\n",
      "(1, '이', 3)\n",
      "<class 'tuple'>\n",
      "(1,)\n",
      "<class 'int'>\n",
      "1\n"
     ]
    }
   ],
   "source": [
    "# 리스트 대괄호 [], 튜플은 소괄호 ()\n",
    "튜플 = (1, \"이\", 3.0)\n",
    "print(튜플)\n",
    "print(type(튜플))\n",
    "\n",
    "리스트 = [1, \"이\", 3.0]\n",
    "print(리스트)\n",
    "print(type(리스트))\n",
    "\n",
    "튜플2 = 1, \"이\", 3\n",
    "print(type(튜플2))\n",
    "print(튜플2)\n",
    "\n",
    "#하나ㅡ이 값만 들어있는 튜플만 만들고 싶다면?\n",
    "튜플_솔로 = (1, )\n",
    "print(type(튜플_솔로))\n",
    "print(튜플_솔로)\n",
    "\n",
    "튜플_솔로2 = (1)\n",
    "print(type(튜플_솔로2))\n",
    "print(튜플_솔로2)"
   ]
  },
  {
   "cell_type": "code",
   "execution_count": 6,
   "metadata": {},
   "outputs": [
    {
     "name": "stdout",
     "output_type": "stream",
     "text": [
      "(1, '이', 3.0)\n",
      "['__add__', '__class__', '__class_getitem__', '__contains__', '__delattr__', '__dir__', '__doc__', '__eq__', '__format__', '__ge__', '__getattribute__', '__getitem__', '__getnewargs__', '__gt__', '__hash__', '__init__', '__init_subclass__', '__iter__', '__le__', '__len__', '__lt__', '__mul__', '__ne__', '__new__', '__reduce__', '__reduce_ex__', '__repr__', '__rmul__', '__setattr__', '__sizeof__', '__str__', '__subclasshook__', 'count', 'index']\n",
      "['__add__', '__class__', '__class_getitem__', '__contains__', '__delattr__', '__delitem__', '__dir__', '__doc__', '__eq__', '__format__', '__ge__', '__getattribute__', '__getitem__', '__gt__', '__hash__', '__iadd__', '__imul__', '__init__', '__init_subclass__', '__iter__', '__le__', '__len__', '__lt__', '__mul__', '__ne__', '__new__', '__reduce__', '__reduce_ex__', '__repr__', '__reversed__', '__rmul__', '__setattr__', '__setitem__', '__sizeof__', '__str__', '__subclasshook__', 'append', 'clear', 'copy', 'count', 'extend', 'index', 'insert', 'pop', 'remove', 'reverse', 'sort']\n",
      "<class 'list'>\n"
     ]
    }
   ],
   "source": [
    "#값 추가, 삭제, 변경 불가.... 진실일까?\n",
    "print(튜플)\n",
    "print(dir(튜플))\n",
    "\n",
    "print(dir(list))\n",
    "\n",
    "튜플_리스트화 = list(튜플)\n",
    "print(type(튜플_리스트화))"
   ]
  },
  {
   "cell_type": "code",
   "execution_count": 7,
   "metadata": {},
   "outputs": [
    {
     "name": "stdout",
     "output_type": "stream",
     "text": [
      "['중', '꺽', '그', '마']\n",
      "('중', '꺽', '그', '마')\n",
      "['중', '뿌', '그', '마']\n",
      "중뿌그마\n"
     ]
    }
   ],
   "source": [
    "#번외\n",
    "\n",
    "수강생 = \"중꺽그마\"\n",
    "\n",
    "수강생_list = list(수강생)\n",
    "수강생_tuple = tuple(수강생)\n",
    "\n",
    "print(수강생_list)\n",
    "print(수강생_tuple)\n",
    "\n",
    "수강생_list[1] = \"뿌\"\n",
    "print(수강생_list)\n",
    "\n",
    "#join함수 공부 알고 있으면 코딩테스트에 좋아요\n",
    "취뽀_수강생 = \"\".join(수강생_list)\n",
    "print(취뽀_수강생)"
   ]
  },
  {
   "cell_type": "code",
   "execution_count": 9,
   "metadata": {},
   "outputs": [
    {
     "name": "stdout",
     "output_type": "stream",
     "text": [
      "(1, '이', 3.0)\n"
     ]
    },
    {
     "data": {
      "text/plain": [
       "('이', 3.0)"
      ]
     },
     "execution_count": 9,
     "metadata": {},
     "output_type": "execute_result"
    }
   ],
   "source": [
    "#공통점 뭔가요?\n",
    "print(튜플)\n",
    "#길이를 구할 수 있어요\n",
    "len(튜플)\n",
    "#곱하기 연산으로 요소를 복사할 수 있어요\n",
    "튜플 * 3\n",
    "#튜플은 요소들끼리 더할수 있다\n",
    "튜플 + 튜플\n",
    "#튜플은 인덱싱이 가능하다\n",
    "튜플[2]\n",
    "#튜플의 인덱스\n",
    "튜플.index(3.0)\n",
    "#튜플 요소의 개수\n",
    "튜플.count(1)\n",
    "#튜플도 슬라이싱이 가능하다\n",
    "튜플[1:3]"
   ]
  },
  {
   "cell_type": "markdown",
   "metadata": {},
   "source": [
    "# tuple 왜 쓸까요?\n",
    "(여러분은 다른 수강생들보다 더 돋보이게 만들어줄 수 있어요)\n",
    "\n",
    "1.3GO가 불가하기 때문입니다. (넣고, 삭제하고 바꾸고)  \n",
    "    여러명이 코딩을 하는 경우 변경되면 안되는 변수를 건드리는 경우  \n",
    "    또는 값이 변경되면 안되는 중요한 데이터를 넣어서 보안적으로  \n",
    "    관리하기가 좋습니다. (은행계좌, 비밀번호 등등...)  \n",
    "2.list는 tuple보다 무겁다  \n",
    "    단지 기능이 많아서 무거운걸까요?\n",
    "    파이썬은 c로 만들어졌습니다.  \n",
    "    파이썬은 동적배열을 지원합니다.  \n",
    "    - list = [1,2,3,4] 생성해서 4개에 값을 모두 넣었습니다.  \n",
    "    - 문제는 그 다음 값을 추가할 때 이미 공간이 다 찼기 때문에  \n",
    "      추가할당을 진행합니다.  \n",
    "      추가 할당 시 메모리 크기는 4 8 16 25 .... 더블링을 해줍니다.\n",
    "3.list는 가변, 튜플은 부변이다.  \n",
    "    값이 고정 되어야 하거나 크기가 적을 경우 튜플을 권장한다."
   ]
  },
  {
   "cell_type": "markdown",
   "metadata": {},
   "source": []
  },
  {
   "cell_type": "markdown",
   "metadata": {},
   "source": [
    "* 가변객체와, 불변객체\n",
    "* 파이썬 리스트의 동적배열\n",
    "* 이왕 이렇게 된거 자료구조 책을 한번 사보는 것도 추천합니다.\n"
   ]
  }
 ],
 "metadata": {
  "kernelspec": {
   "display_name": "Python 3",
   "language": "python",
   "name": "python3"
  },
  "language_info": {
   "codemirror_mode": {
    "name": "ipython",
    "version": 3
   },
   "file_extension": ".py",
   "mimetype": "text/x-python",
   "name": "python",
   "nbconvert_exporter": "python",
   "pygments_lexer": "ipython3",
   "version": "3.9.6"
  }
 },
 "nbformat": 4,
 "nbformat_minor": 2
}
