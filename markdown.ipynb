{
 "cells": [
  {
   "cell_type": "markdown",
   "metadata": {},
   "source": [
    "# 마크다운 문법 정리"
   ]
  },
  {
   "cell_type": "markdown",
   "metadata": {},
   "source": [
    "## 1. 제목\n",
    "\n",
    "제목 크기 설정, 제목의 크기로 velog 목차에 들여쓰기 설정 가능  \n",
    "```<h1> </h1>```로도 표현\n",
    "```\n",
    "# h1\n",
    "## h2\n",
    "### h3\n",
    "#### h4\n",
    "##### h5\n",
    "###### h6\n",
    "```\n"
   ]
  },
  {
   "cell_type": "markdown",
   "metadata": {},
   "source": [
    "## 2. 목록 나열\n",
    "\n",
    "순서가 있는 목록\n",
    "```1.```을 누르고 스페이스바를 누르면 생성  \n",
    "tab키를 눌러서 하위 항목을 생성할수 있고, shift + tab 키를 눌러서 상위항목으로 이동가능  \n",
    "\n",
    "순서가 없는 목록  \n",
    "```-```하이픈 또는 ```*```을 쓰고 스페이스바를 누르면 생성  \n",
    "\n",
    "```\n",
    "1. 순서가 있는 항목 (enter)\n",
    "2. 순서가 있는 항목 (enter)\n",
    "(tab) - 순서가 없는 항목 (enter)\n",
    "      * 순서가 없는 항목 (enter)\n",
    "```\n"
   ]
  },
  {
   "cell_type": "markdown",
   "metadata": {},
   "source": [
    "## 3. Code Block\n",
    "\n",
    "코드를 정리하거나 강조하고 싶은 부분을 나타낼 때 사용  \n",
    "인라인과 블럭 단위로 구분 할 수 있습니다.  \n",
    "\n",
    "`inline sample code`\n",
    "```block sample code```\n"
   ]
  },
  {
   "cell_type": "markdown",
   "metadata": {},
   "source": [
    "## 4. Image\n",
    "\n",
    "`![]()`을 작성하고 `()`안에 이미지 주소를 입력`[]`안에는 이미지 파일의 이름을 작성  \n",
    "로컬에 이미지 파일을 저장한 경우 절대 경로가 아닌 상대 경로를 사용하여 이미지를 저장  \n",
    "\n",
    "`![git&github](http://i.morioh.com/2019/11/11/1f265e2d4c43.jpg)`\n"
   ]
  },
  {
   "cell_type": "markdown",
   "metadata": {},
   "source": [
    "## 5. Link\n",
    "`[]()`을 작성하고 `()`안에 링크 주소를 작성하고 `[]`안에 어떤 링크 주소인지 작성합니다.  \n",
    "\n",
    "`[git 공식문서](https://git-scm.com)`\n"
   ]
  },
  {
   "cell_type": "markdown",
   "metadata": {},
   "source": [
    "## 6. Table\n",
    "`|` 사이에 컬럼을 작성하고 enter를 입력  \n",
    "중간에 선 넣어주기.  \n",
    "마지막 컬럼을 작성하고 뒤에 `|`를 붙여줍니다.  \n",
    "\n",
    "```\n",
    "|working directory|statging area|remoe repo|\n",
    "|---|---|---|\n",
    "|working tree|index|histroy|\n",
    "|working copy|cache|tree|\n",
    "```\n",
    "\n",
    "| working directory | statging area | remoe repo |\n",
    "|---|---|---|\n",
    "| working tree|index|histroy|  \n",
    "| working copy|cache|tree|  "
   ]
  },
  {
   "cell_type": "markdown",
   "metadata": {},
   "source": [
    "## 7. 마크다운 포맷 무시하기\n",
    "\n",
    "```\n",
    "- 볼드체 대신 **별표**를 출럭하고 싶어요  \n",
    "- 볼드체 대신 \\*\\*별표\\*\\*를 출력하고 싶어요\n",
    "```\n",
    "\n",
    "- 볼드체 대신 **별표**를 출럭하고 싶어요  \n",
    "- 볼드체 대신 \\*\\*별표\\*\\*를 출력하고 싶어요"
   ]
  },
  {
   "cell_type": "markdown",
   "metadata": {},
   "source": [
    "## 8. 인용문\n",
    "`>`을 입력하고 enter or space 키  \n",
    "인용문 안에 인용문 사용 가능  \n",
    "\n",
    "> git은 컴퓨터 파일의 변경사항을 추적하고 여러 명의 사용자들 간에 해당 파일들의 작업을 조율하기 위한 분산버전 관리 시스템이다."
   ]
  },
  {
   "cell_type": "markdown",
   "metadata": {},
   "source": [
    "## 9. 수평선\n",
    "`***`,`___`을 입력하여 작성  \n",
    "\n",
    "```\n",
    "Working Diractory\n",
    "---\n",
    "Staging Area\n",
    "***\n",
    "Remote Repository\n",
    "___\n",
    "```\n",
    "Working Diractory\n",
    "----\n",
    "Staging Area\n",
    "***\n",
    "Remote Repository\n",
    "___"
   ]
  },
  {
   "cell_type": "markdown",
   "metadata": {},
   "source": [
    "## 10. 강조\n",
    "\n",
    "이탤릭체는 해당 부분을 `*` 혹은 `_`언더바로 감싸줍니다.\n",
    "볼드체는 해당 부분을 `**` 혹은 `__`언더바 두개로 감싸줍니다. \n",
    "취소선은 ~~표시를 사용합니다.\n"
   ]
  },
  {
   "cell_type": "markdown",
   "metadata": {},
   "source": [
    "## 11. 체크박스\n",
    "\n",
    "`-`,`*`,`+`을 작성하고 `[]`를 넣어주기  \n",
    "`[]`는 빈 체크 박스, `[x]`는 표시가 된 체크박스"
   ]
  },
  {
   "cell_type": "markdown",
   "metadata": {},
   "source": [
    "## 12.접기/펼치기\n",
    "\n",
    "마크다운에서는 지원하지 않지만 html의 details태그를 이용하면 사용가능하다.\n",
    "velog에서는 적용이 불가능\n",
    "\n",
    "```\n",
    "<details>\n",
    "    <summary> 접기/펼치기 </summary>\n",
    "    <div markdown = \"1\">\n",
    "\n",
    "    여기에 내용을 적기\n",
    "\n",
    "</details>\n"
   ]
  }
 ],
 "metadata": {
  "language_info": {
   "name": "python"
  }
 },
 "nbformat": 4,
 "nbformat_minor": 2
}
