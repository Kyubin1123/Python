{
 "cells": [
  {
   "cell_type": "markdown",
   "metadata": {},
   "source": [
    "## 입력과 출력\n",
    "\n",
    "* 입력 : input()\n",
    "* 출력 : print()\n",
    "\n",
    "##### 함수와 메소드\n",
    "> 함수 : 어디에도 속해있지 않고 단독 모듈이라 함수를 그냥 호출하여 사용이 가능합니다. 예) print(), input()\n",
    "\n",
    "> 메소드 : 함수의 클래스안에 속해 있고 클래스의 멤버 변수들을 이용해서 구현된 것\n",
    "예) \"까먹으신건가요?\" .count(\"까\") / \"까먹으신건가요?\".index(\"까\")"
   ]
  },
  {
   "cell_type": "code",
   "execution_count": 1,
   "metadata": {},
   "outputs": [
    {
     "data": {
      "text/plain": [
       "1"
      ]
     },
     "execution_count": 1,
     "metadata": {},
     "output_type": "execute_result"
    }
   ],
   "source": [
    "\"까먹으신건가요?\".count(\"까\")"
   ]
  },
  {
   "cell_type": "code",
   "execution_count": 2,
   "metadata": {},
   "outputs": [
    {
     "data": {
      "text/plain": [
       "0"
      ]
     },
     "execution_count": 2,
     "metadata": {},
     "output_type": "execute_result"
    }
   ],
   "source": [
    "\"까먹으신건가요?\".index(\"까\")"
   ]
  },
  {
   "cell_type": "code",
   "execution_count": 4,
   "metadata": {},
   "outputs": [
    {
     "name": "stdout",
     "output_type": "stream",
     "text": [
      "5 5\n"
     ]
    }
   ],
   "source": [
    "숫자, 문자 = 5, \"5\"\n",
    "print(숫자, 문자)"
   ]
  },
  {
   "cell_type": "code",
   "execution_count": 9,
   "metadata": {},
   "outputs": [
    {
     "name": "stdout",
     "output_type": "stream",
     "text": [
      "헉.. 앗.. 안녕..\n"
     ]
    }
   ],
   "source": [
    "인사 = input(\"아...안녕?\")\n",
    "print(인사 + \" 앗.. 안녕..\")"
   ]
  },
  {
   "cell_type": "code",
   "execution_count": 1,
   "metadata": {},
   "outputs": [
    {
     "name": "stdout",
     "output_type": "stream",
     "text": [
      "33 <class 'int'>\n"
     ]
    }
   ],
   "source": [
    "정수 = input()\n",
    "정수 = int(정수)\n",
    "print(정수, type(정수))"
   ]
  },
  {
   "cell_type": "markdown",
   "metadata": {},
   "source": [
    "그 외 입력값의 형변환이 가능한 종류\n",
    "* tuple()\n",
    "* list()\n",
    "* dict()\n",
    "* set()\n"
   ]
  },
  {
   "cell_type": "code",
   "execution_count": 4,
   "metadata": {},
   "outputs": [
    {
     "name": "stdout",
     "output_type": "stream",
     "text": [
      "넌센스 퀴즈 : 바나나 먹으면?\n",
      "정답 :  나한테 반하나\n"
     ]
    }
   ],
   "source": [
    "#input()은 한가지만의 값만 받을 수 있음, 공백당 다른 값으로 인식\n",
    "#split()은 문자열을 쪼갤 수 있다.\n",
    "\n",
    "넌센스, 정답 = input().split(',')\n",
    "print(f'넌센스 퀴즈 : {넌센스}')\n",
    "print(f'정답 : {정답}')"
   ]
  },
  {
   "cell_type": "code",
   "execution_count": 9,
   "metadata": {},
   "outputs": [
    {
     "name": "stdout",
     "output_type": "stream",
     "text": [
      "<class 'int'> 23 34 45\n"
     ]
    }
   ],
   "source": [
    "#시퀀스 자료형에 다 지원되는 메소드\n",
    "번호1, 번호2, 번호3, 번호4 = input().split(',')\n",
    "\n",
    "번호1 = int(번호1)\n",
    "번호2 = int(번호2)\n",
    "번호3 = int(번호3)\n",
    "번호4 = int(번호4)\n",
    "\n",
    "print(type(번호1), 번호2, 번호3, 번호4)"
   ]
  },
  {
   "cell_type": "code",
   "execution_count": 7,
   "metadata": {},
   "outputs": [
    {
     "name": "stdout",
     "output_type": "stream",
     "text": [
      "<class 'int'> <class 'int'> <class 'int'> <class 'int'>\n"
     ]
    }
   ],
   "source": [
    "#map()\n",
    "번호1, 번호2, 번호3, 번호4 = map(int, input().split(\",\"))\n",
    "print(type(번호1),type(번호2),type(번호3),type(번호4))"
   ]
  },
  {
   "cell_type": "code",
   "execution_count": 15,
   "metadata": {},
   "outputs": [
    {
     "name": "stdout",
     "output_type": "stream",
     "text": [
      "주문이 완료되었습니다. 붕어빵(팥) 1개, 붕어빵(슈크림) 2개, 붕어빵(잡채) 3개 총 6개 결제 금액은 16000원 입니다.\n"
     ]
    }
   ],
   "source": [
    "# 레거시 : 누군가 남겨두고 간 코드\n",
    "# 리팩토링 : 결과의 변경 없이 코드의 구조를 재조정하는 것입니다.\n",
    "# input()\n",
    "\n",
    "fish_p , fish_s, fish_j = \"붕어빵(팥)\", \"붕어빵(슈크림)\", \"붕어빵(잡채)\"\n",
    "fish_p_sell, fish_s_sell, fish_j_sell = 2000, 2500, 3000\n",
    "# order_s, order_j, order_p = 2, 3, 0\n",
    "order_p, order_s, order_j = input().split()\n",
    "order_p = int(order_p)\n",
    "order_s = int(order_s)\n",
    "order_j = int(order_j)\n",
    "#order_s_pay, order_j_play = fish_s_sell * 2, fish_j_sell * 3\n",
    "order_p_pay, order_s_pay, order_j_pay = fish_p_sell * order_p, fish_s_sell * order_s, fish_j_sell * order_j\n",
    "total = order_p + order_s + order_j\n",
    "total_pay = order_p_pay + order_s_pay + order_j_pay\n",
    "\n",
    "print(f'주문이 완료되었습니다. {fish_p} {order_p}개, {fish_s} {order_s}개, {fish_j} {order_j}개 총 {total}개 결제 금액은 {total_pay}원 입니다.')\n"
   ]
  },
  {
   "cell_type": "code",
   "execution_count": 19,
   "metadata": {},
   "outputs": [
    {
     "name": "stdout",
     "output_type": "stream",
     "text": [
      "초코칩 민트 샷추가 휘핑크림\n",
      "초코칩/민트/샷추가/휘핑크림\n",
      "초코칩:민트:샷추가:휘핑크림\n",
      "초코칩\n",
      "민트\n",
      "샷추가\n",
      "휘핑크림\n",
      "초코칩   민트   샷추가   휘핑크림\n"
     ]
    }
   ],
   "source": [
    "#print() 함수의 기능을 이용해보겠습니다.\n",
    "\n",
    "print(\"초코칩\", \"민트\", \"샷추가\", \"휘핑크림\")\n",
    "print(\"초코칩\", \"민트\", \"샷추가\", \"휘핑크림\", sep='/')\n",
    "print(\"초코칩\", \"민트\", \"샷추가\", \"휘핑크림\", sep=':')\n",
    "print(\"초코칩\", \"민트\", \"샷추가\", \"휘핑크림\", sep = '\\n')\n",
    "print(\"초코칩\", \"민트\", \"샷추가\", \"휘핑크림\", sep = '   ')"
   ]
  },
  {
   "cell_type": "code",
   "execution_count": 21,
   "metadata": {},
   "outputs": [
    {
     "name": "stdout",
     "output_type": "stream",
     "text": [
      "초코칩 민트 샷추가 휘핑크림 초코칩 민트 샷추가 휘핑크림 초코칩 민트 샷추가 휘핑크림 "
     ]
    }
   ],
   "source": [
    "#end\n",
    "print(\"초코칩\", \"민트\", \"샷추가\", \"휘핑크림\", end = \" \")\n",
    "print(\"초코칩\", \"민트\", \"샷추가\", \"휘핑크림\", end = \" \")\n",
    "print(\"초코칩\", \"민트\", \"샷추가\", \"휘핑크림\", end = \" \")\n"
   ]
  }
 ],
 "metadata": {
  "kernelspec": {
   "display_name": "Python 3",
   "language": "python",
   "name": "python3"
  },
  "language_info": {
   "codemirror_mode": {
    "name": "ipython",
    "version": 3
   },
   "file_extension": ".py",
   "mimetype": "text/x-python",
   "name": "python",
   "nbconvert_exporter": "python",
   "pygments_lexer": "ipython3",
   "version": "3.9.6"
  }
 },
 "nbformat": 4,
 "nbformat_minor": 2
}
